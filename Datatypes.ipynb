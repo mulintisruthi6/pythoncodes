{
 "cells": [
  {
   "cell_type": "code",
   "execution_count": 1,
   "id": "9502236c-38ff-4e9e-86e7-2244512a72bb",
   "metadata": {},
   "outputs": [
    {
     "name": "stdout",
     "output_type": "stream",
     "text": [
      "35 <class 'int'>\n"
     ]
    }
   ],
   "source": [
    "## Integer\n",
    "age=35\n",
    "print(age,type(age))## printing multiple values"
   ]
  },
  {
   "cell_type": "code",
   "execution_count": 2,
   "id": "37874a8e-15be-48a1-aab6-2f7f1a2b7c7a",
   "metadata": {},
   "outputs": [
    {
     "name": "stdout",
     "output_type": "stream",
     "text": [
      "5.11 <class 'float'>\n"
     ]
    }
   ],
   "source": [
    "##floating point\n",
    "h=5.11\n",
    "print(h,type(h))"
   ]
  },
  {
   "cell_type": "code",
   "execution_count": 3,
   "id": "d08902f9-bfa9-4db1-bd4f-fa1e0db52f6a",
   "metadata": {},
   "outputs": [
    {
     "name": "stdout",
     "output_type": "stream",
     "text": [
      "sruthi <class 'str'>\n"
     ]
    }
   ],
   "source": [
    "## string datatype\n",
    "name=\"sruthi\"\n",
    "print(name,type(name))"
   ]
  },
  {
   "cell_type": "code",
   "execution_count": 5,
   "id": "0ddcc154-d720-4712-9a36-9c934d145e73",
   "metadata": {},
   "outputs": [
    {
     "name": "stdout",
     "output_type": "stream",
     "text": [
      "True <class 'bool'>\n"
     ]
    }
   ],
   "source": [
    "## boolean datatype\n",
    "is_true=True\n",
    "print(is_true,type(is_true))"
   ]
  },
  {
   "cell_type": "code",
   "execution_count": 6,
   "id": "65bfbe9e-5e4d-462c-aec8-332d9feead43",
   "metadata": {},
   "outputs": [
    {
     "data": {
      "text/plain": [
       "False"
      ]
     },
     "execution_count": 6,
     "metadata": {},
     "output_type": "execute_result"
    }
   ],
   "source": [
    "## bool by default it returns the false\n",
    "bool()"
   ]
  },
  {
   "cell_type": "code",
   "execution_count": 7,
   "id": "a5e0fab7-d55e-4e82-92c0-1bf0c3bc2156",
   "metadata": {},
   "outputs": [
    {
     "data": {
      "text/plain": [
       "True"
      ]
     },
     "execution_count": 7,
     "metadata": {},
     "output_type": "execute_result"
    }
   ],
   "source": [
    "## comaparing the numbers\n",
    "a=10\n",
    "b=10\n",
    "a==b"
   ]
  },
  {
   "cell_type": "code",
   "execution_count": 9,
   "id": "0c01bf46-d6d3-4c88-a515-ae6754b4b18d",
   "metadata": {},
   "outputs": [
    {
     "name": "stdout",
     "output_type": "stream",
     "text": [
      "hi5\n"
     ]
    }
   ],
   "source": [
    "## combing the both string and integer but we cant combine like that we have to typecast\n",
    "## the integer with string\n",
    "res=\"hi\"+str(5)\n",
    "print(res)"
   ]
  },
  {
   "cell_type": "code",
   "execution_count": null,
   "id": "3e07a1c1-b147-4899-834f-0f9efd94f131",
   "metadata": {},
   "outputs": [],
   "source": [
    "\n"
   ]
  }
 ],
 "metadata": {
  "kernelspec": {
   "display_name": "Python 3 (ipykernel)",
   "language": "python",
   "name": "python3"
  },
  "language_info": {
   "codemirror_mode": {
    "name": "ipython",
    "version": 3
   },
   "file_extension": ".py",
   "mimetype": "text/x-python",
   "name": "python",
   "nbconvert_exporter": "python",
   "pygments_lexer": "ipython3",
   "version": "3.12.5"
  }
 },
 "nbformat": 4,
 "nbformat_minor": 5
}
