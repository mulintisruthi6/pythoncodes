{
 "cells": [
  {
   "cell_type": "code",
   "execution_count": 1,
   "id": "31ce2d64-55f2-49aa-9bb7-05901c57cec3",
   "metadata": {},
   "outputs": [
    {
     "name": "stdout",
     "output_type": "stream",
     "text": [
      "allow for vote\n"
     ]
    }
   ],
   "source": [
    " ## if statement\n",
    "## eligible for vote\n",
    "age=20\n",
    "if age>=18:\n",
    "    print(\"allow for vote\")"
   ]
  },
  {
   "cell_type": "code",
   "execution_count": 2,
   "id": "1674d309-e960-4eb0-a081-b1d5b675e76f",
   "metadata": {},
   "outputs": [
    {
     "name": "stdout",
     "output_type": "stream",
     "text": [
      "not allow for vote\n"
     ]
    }
   ],
   "source": [
    "## else\n",
    "## eligible for vote program by using if else\n",
    "age=16\n",
    "if age>=18:\n",
    "    print(\"allow for vote\")\n",
    "else:\n",
    "    print(\"not allow for vote\")"
   ]
  },
  {
   "cell_type": "code",
   "execution_count": 3,
   "id": "46ffcbc9-2f40-4dd4-a3e9-fca5f12a8a47",
   "metadata": {},
   "outputs": [
    {
     "name": "stdout",
     "output_type": "stream",
     "text": [
      "child\n"
     ]
    }
   ],
   "source": [
    "## elif\n",
    "## according to the age finding as child or teenager or adult\n",
    "age=10\n",
    "if (age<13):\n",
    "    print(\"child\")\n",
    "elif (age<18):\n",
    "    print(\"teenager\")\n",
    "else:\n",
    "    print(\"adult\")\n",
    " "
   ]
  },
  {
   "cell_type": "code",
   "execution_count": 4,
   "id": "df27c6a1-e7f6-456d-9865-681234acdf20",
   "metadata": {},
   "outputs": [
    {
     "name": "stdin",
     "output_type": "stream",
     "text": [
      "enter the num 4\n"
     ]
    },
    {
     "name": "stdout",
     "output_type": "stream",
     "text": [
      "the num is postive\n",
      "even\n"
     ]
    }
   ],
   "source": [
    "## nested conditional statements\n",
    "## fiding even or odd number\n",
    "num=int(input(\"enter the num\"))\n",
    "if num>=0:\n",
    "    print(\"the num is postive\")\n",
    "    if(num%2==0):\n",
    "        print(\"even\")\n",
    "    else:\n",
    "        print(\"odd\")\n",
    "else:\n",
    "    print(\"num is negitive\")"
   ]
  },
  {
   "cell_type": "code",
   "execution_count": 5,
   "id": "6875f968-19ff-4ddd-a396-eeb863c6600b",
   "metadata": {},
   "outputs": [
    {
     "name": "stdin",
     "output_type": "stream",
     "text": [
      " 2004\n"
     ]
    },
    {
     "name": "stdout",
     "output_type": "stream",
     "text": [
      "2004 leap year\n",
      "2004 leap year\n"
     ]
    }
   ],
   "source": [
    "## leap year\n",
    "year=int(input())\n",
    "if(year%4==0):\n",
    "    if(year%100):\n",
    "        if(year%400):\n",
    "            print(year,\"leap year\")\n",
    "        else:\n",
    "            print(\"not leap year\")\n",
    "    print(year,\"leap year\")\n",
    "else:\n",
    "    print(\"not leap year\")\n"
   ]
  },
  {
   "cell_type": "code",
   "execution_count": 7,
   "id": "590cd1fd-5030-4896-a094-f9360d44f710",
   "metadata": {},
   "outputs": [
    {
     "name": "stdin",
     "output_type": "stream",
     "text": [
      " 10\n",
      " 20\n",
      " -\n"
     ]
    },
    {
     "name": "stdout",
     "output_type": "stream",
     "text": [
      "-10\n"
     ]
    }
   ],
   "source": [
    "# calculator\n",
    "a=int(input())\n",
    "b=int(input())\n",
    "c=input()\n",
    "if(c=='+'):\n",
    "    print(a+b)\n",
    "elif(c=='-'):\n",
    "    print(a-b)\n",
    "elif(c=='*'):\n",
    "    print(a*b)\n",
    "elif(c=='/'):\n",
    "    print(a/b)\n",
    "else:\n",
    "    print(\"invalid\")"
   ]
  },
  {
   "cell_type": "code",
   "execution_count": 10,
   "id": "252e2a41-27dd-4840-90fb-aef785d4c70a",
   "metadata": {},
   "outputs": [
    {
     "name": "stdin",
     "output_type": "stream",
     "text": [
      " 10\n"
     ]
    },
    {
     "name": "stdout",
     "output_type": "stream",
     "text": [
      "50\n"
     ]
    }
   ],
   "source": [
    "## age based ticket cost\n",
    "age=int(input())\n",
    "if(age<=5):\n",
    "    print(\"no ticket\")\n",
    "elif(age>=10):\n",
    "    print(\"50\")\n",
    "elif(age>=20):\n",
    "    print(\"100\")\n",
    "else:\n",
    "    print(\"adhar valid\")"
   ]
  },
  {
   "cell_type": "code",
   "execution_count": null,
   "id": "be31ed65-14f6-41bd-9d15-a169415e2f7a",
   "metadata": {},
   "outputs": [],
   "source": []
  }
 ],
 "metadata": {
  "kernelspec": {
   "display_name": "Python 3 (ipykernel)",
   "language": "python",
   "name": "python3"
  },
  "language_info": {
   "codemirror_mode": {
    "name": "ipython",
    "version": 3
   },
   "file_extension": ".py",
   "mimetype": "text/x-python",
   "name": "python",
   "nbconvert_exporter": "python",
   "pygments_lexer": "ipython3",
   "version": "3.12.5"
  }
 },
 "nbformat": 4,
 "nbformat_minor": 5
}
