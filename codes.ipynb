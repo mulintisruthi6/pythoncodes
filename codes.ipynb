{
 "cells": [
  {
   "cell_type": "code",
   "execution_count": 23,
   "id": "595f7a37-89da-43ef-9974-74540ae1a570",
   "metadata": {},
   "outputs": [
    {
     "name": "stdout",
     "output_type": "stream",
     "text": [
      "<class 'list'>\n"
     ]
    }
   ],
   "source": [
    "## finding the list datatype by using the type function\n",
    "## type() used to find the datatype\n",
    "lst=[]\n",
    "print(type(lst))"
   ]
  },
  {
   "cell_type": "code",
   "execution_count": 24,
   "id": "3034947e-2f64-4775-886a-389e1a21ce32",
   "metadata": {},
   "outputs": [
    {
     "name": "stdout",
     "output_type": "stream",
     "text": [
      "['sri', 'sruthi', 1, 2, 3]\n"
     ]
    }
   ],
   "source": [
    "## printing the values within the list\n",
    "names=[\"sri\",\"sruthi\",1,2,3]\n",
    "print(names)"
   ]
  },
  {
   "cell_type": "code",
   "execution_count": 25,
   "id": "c6cd6f6d-9ecf-47ce-8fa2-c17ef6767dcc",
   "metadata": {},
   "outputs": [
    {
     "name": "stdout",
     "output_type": "stream",
     "text": [
      "apple\n",
      "guva\n",
      "['banana', 'cherry', 'guva']\n",
      "['banana', 'cherry']\n",
      "[]\n",
      "['apple', 'w', 'a', 't', 'e', 'r', ' ', 'm', 'e', 'l', 'o', 'n']\n"
     ]
    }
   ],
   "source": [
    "#acessing the values through index from the forword and backword\n",
    "f=[\"apple\",\"banana\",\"cherry\",\"guva\"]\n",
    "print(f[0])\n",
    "print(f[-1])\n",
    "print(f[1:])\n",
    "print(f[1:3])\n",
    "print(f[-1:-3])\n",
    "f[1:]=\"water melon\"\n",
    "print(f)\n"
   ]
  },
  {
   "cell_type": "code",
   "execution_count": 26,
   "id": "657a366f-0150-4239-a213-65b2432909da",
   "metadata": {},
   "outputs": [
    {
     "name": "stdout",
     "output_type": "stream",
     "text": [
      "['apple', 'w', 'a', 't', 'e', 'r', ' ', 'm', 'e', 'l', 'o', 'n']\n"
     ]
    }
   ],
   "source": [
    "#modying list\n",
    "print(f)"
   ]
  },
  {
   "cell_type": "code",
   "execution_count": 27,
   "id": "82a4aa60-ab07-42d2-a120-b9695903dfa5",
   "metadata": {},
   "outputs": [
    {
     "name": "stdout",
     "output_type": "stream",
     "text": [
      "['grapes', 'orange', 'guva', 'banana', 'pine apple']\n"
     ]
    }
   ],
   "source": [
    "#list methods\n",
    "## append()= add the value at the end of the list\n",
    "f=[\"grapes\",\"orange\",\"guva\",\"banana\"]\n",
    "f.append(\"pine apple\")\n",
    "print(f)\n"
   ]
  },
  {
   "cell_type": "code",
   "execution_count": 18,
   "id": "78ecadac-17f7-40ca-9100-3df2e728e4a4",
   "metadata": {},
   "outputs": [
    {
     "name": "stdout",
     "output_type": "stream",
     "text": [
      "pine apple\n",
      "['grapes', 'orange', 'guva', 'banana']\n"
     ]
    }
   ],
   "source": [
    "#pop()=this method remove the last value\n",
    "pop_f=f.pop()\n",
    "print(pop_f)\n",
    "print(f)"
   ]
  },
  {
   "cell_type": "code",
   "execution_count": 28,
   "id": "47fde939-503c-4e42-ba3a-43726ff70913",
   "metadata": {},
   "outputs": [
    {
     "name": "stdout",
     "output_type": "stream",
     "text": [
      "1\n"
     ]
    }
   ],
   "source": [
    "#index = finding the index of the particular value\n",
    "i=f.index(\"orange\")\n",
    "print(i)"
   ]
  },
  {
   "cell_type": "code",
   "execution_count": 29,
   "id": "28ac1a79-ed37-47ca-9c77-f85a6ef96996",
   "metadata": {},
   "outputs": [
    {
     "name": "stdout",
     "output_type": "stream",
     "text": [
      "2\n"
     ]
    }
   ],
   "source": [
    "#insert and count\n",
    "## insert()= used to insert the value new value for the list already which is present\n",
    "## count()= used to the number times the particular value or word is present in the string\n",
    "f.insert(2,\"banana\")\n",
    "print(f.count(\"banana\"))"
   ]
  },
  {
   "cell_type": "code",
   "execution_count": 36,
   "id": "130bb6c4-d9cd-444f-a246-8cf35e272d48",
   "metadata": {},
   "outputs": [
    {
     "name": "stdout",
     "output_type": "stream",
     "text": [
      "[3, 4, 5]\n",
      "[1, 2, 3, 4, 5]\n",
      "[6, 7, 8, 9]\n",
      "[1, 3, 5, 7, 9]\n",
      "[9, 8, 7, 6, 5, 4, 3, 2, 1]\n"
     ]
    }
   ],
   "source": [
    "##slicing list\n",
    "num=[1,2,3,4,5,6,7,8,9]\n",
    "print(num[2:5])\n",
    "print(num[:5])\n",
    "print(num[5:])\n",
    "print(num[::2])\n",
    "print(num[::-1])"
   ]
  },
  {
   "cell_type": "code",
   "execution_count": 37,
   "id": "cc8f9200-4254-4d97-a558-fda5d061c3e1",
   "metadata": {},
   "outputs": [
    {
     "name": "stdout",
     "output_type": "stream",
     "text": [
      "1\n",
      "2\n",
      "3\n",
      "4\n",
      "5\n",
      "6\n",
      "7\n",
      "8\n",
      "9\n"
     ]
    }
   ],
   "source": [
    "#iterating the list one by one by the end of the list\n",
    "n1=[1,2,3,4,5,6,7,8,9]\n",
    "for n in n1:\n",
    "    print(n)"
   ]
  },
  {
   "cell_type": "code",
   "execution_count": 38,
   "id": "8a3b7cfc-14e5-4102-9e32-c4317d9dd672",
   "metadata": {},
   "outputs": [
    {
     "name": "stdout",
     "output_type": "stream",
     "text": [
      "0 1\n",
      "1 2\n",
      "2 3\n",
      "3 4\n",
      "4 5\n",
      "5 6\n",
      "6 7\n",
      "7 8\n",
      "8 9\n"
     ]
    }
   ],
   "source": [
    "#iterating from index\n",
    "## iterating from index shows that the for which index the what value is present\n",
    "for index,n in enumerate(n1):\n",
    "    print(index,n)"
   ]
  },
  {
   "cell_type": "code",
   "execution_count": 39,
   "id": "8b698aef-0e55-4963-982c-27ae3e63bd03",
   "metadata": {},
   "outputs": [
    {
     "name": "stdout",
     "output_type": "stream",
     "text": [
      "[0, 1, 4, 9, 16, 25, 36, 49, 64, 81]\n"
     ]
    }
   ],
   "source": [
    "# list compresion used to reduce the length of the code\n",
    "lst=[]\n",
    "for x in range(10):\n",
    "    lst.append(x**2)\n",
    "print(lst)\n",
    "    "
   ]
  },
  {
   "cell_type": "code",
   "execution_count": 40,
   "id": "218f9514-8ce4-4a36-9059-237cd5fe9540",
   "metadata": {},
   "outputs": [
    {
     "data": {
      "text/plain": [
       "[0, 1, 4, 9, 16, 25, 36, 49, 64, 81]"
      ]
     },
     "execution_count": 40,
     "metadata": {},
     "output_type": "execute_result"
    }
   ],
   "source": [
    "## this may be helps to reduce the code and everything in the single line\n",
    "[x**2 for x in range(10)]"
   ]
  },
  {
   "cell_type": "code",
   "execution_count": 41,
   "id": "abfa5226-a11a-4473-bc6b-16325eccc620",
   "metadata": {},
   "outputs": [
    {
     "name": "stdout",
     "output_type": "stream",
     "text": [
      "[0, 1, 4, 9, 16, 25, 36, 49, 64, 81]\n"
     ]
    }
   ],
   "source": [
    " ## printing it\n",
    "square=[num**2 for num in range(10)]\n",
    "print(square)"
   ]
  },
  {
   "cell_type": "code",
   "execution_count": 42,
   "id": "a04d6af8-40d9-4516-b1f9-c69d337cbbcd",
   "metadata": {},
   "outputs": [
    {
     "name": "stdout",
     "output_type": "stream",
     "text": [
      "[0, 2, 4, 6, 8]\n"
     ]
    }
   ],
   "source": [
    "## list comprehension with condition\n",
    "lst=[]\n",
    "for i in range(10):\n",
    "    if i%2==0:\n",
    "        lst.append(i)\n",
    "print(lst)"
   ]
  },
  {
   "cell_type": "code",
   "execution_count": 43,
   "id": "3ae7eaf8-e219-4e02-bdcf-cca9480d55ad",
   "metadata": {},
   "outputs": [
    {
     "name": "stdout",
     "output_type": "stream",
     "text": [
      "[0, 2, 4, 6, 8]\n"
     ]
    }
   ],
   "source": [
    "## condition comprehension\n",
    "even_num=[num for num in range(10) if num%2==0]\n",
    "print(even_num)"
   ]
  },
  {
   "cell_type": "code",
   "execution_count": 44,
   "id": "7debc695-b549-4e9e-a0ac-07e1c154d05a",
   "metadata": {},
   "outputs": [
    {
     "name": "stdout",
     "output_type": "stream",
     "text": [
      "[[1, 'a'], [1, 'b'], [1, 'c'], [1, 'd'], [2, 'a'], [2, 'b'], [2, 'c'], [2, 'd'], [3, 'a'], [3, 'b'], [3, 'c'], [3, 'd'], [4, 'a'], [4, 'b'], [4, 'c'], [4, 'd']]\n"
     ]
    }
   ],
   "source": [
    "## nested list comprehension\n",
    "l1=[1,2,3,4]\n",
    "l2=['a','b','c','d']\n",
    "pair=[[i,j] for i in l1 for j in l2]\n",
    "print(pair)"
   ]
  },
  {
   "cell_type": "code",
   "execution_count": 45,
   "id": "f7d9b3f1-7ee1-4a43-9f72-1e4246b17277",
   "metadata": {},
   "outputs": [
    {
     "name": "stdout",
     "output_type": "stream",
     "text": [
      "[5, 5, 6, 4, 13]\n"
     ]
    }
   ],
   "source": [
    "## lists comprehension with function call\n",
    "words=[\"hello\",\"world\",\"python\",\"list\",\"comprehension\"]\n",
    "lengths=[len(word) for word in words]\n",
    "print(lengths)"
   ]
  },
  {
   "cell_type": "code",
   "execution_count": 46,
   "id": "f979e81d-b9b4-45b2-acff-13b79a1afeff",
   "metadata": {},
   "outputs": [
    {
     "name": "stdout",
     "output_type": "stream",
     "text": [
      "{1, 2, 3, 4, 5}\n"
     ]
    }
   ],
   "source": [
    "## create a set\n",
    "s={1,2,3,4,5}\n",
    "print(s)"
   ]
  },
  {
   "cell_type": "code",
   "execution_count": 47,
   "id": "a0217bff-4378-4fa0-b134-8590bb0b96fb",
   "metadata": {},
   "outputs": [
    {
     "name": "stdout",
     "output_type": "stream",
     "text": [
      "<class 'set'>\n"
     ]
    }
   ],
   "source": [
    "## set example\n",
    "empty_set=set()\n",
    "print(type(empty_set))"
   ]
  },
  {
   "cell_type": "code",
   "execution_count": 48,
   "id": "3abb3b82-fb5b-475c-aaa0-dd187ca2998b",
   "metadata": {},
   "outputs": [
    {
     "name": "stdout",
     "output_type": "stream",
     "text": [
      "{1, 2, 3, 4, 5}\n"
     ]
    }
   ],
   "source": [
    "## set not allows the duplictes\n",
    "s={1,2,3,3,4,5,1,2}\n",
    "print(s)"
   ]
  },
  {
   "cell_type": "code",
   "execution_count": 49,
   "id": "b0aa8476-51fc-4c51-876d-eb5b6f880121",
   "metadata": {},
   "outputs": [
    {
     "name": "stdout",
     "output_type": "stream",
     "text": [
      "{1, 2, 3, 4, 5, 6}\n"
     ]
    }
   ],
   "source": [
    "## set operations\n",
    "## add and remove\n",
    "s.add(6)\n",
    "print(s)"
   ]
  },
  {
   "cell_type": "code",
   "execution_count": 50,
   "id": "699481ab-c4e9-4ef9-b3f5-2e716c11942d",
   "metadata": {},
   "outputs": [
    {
     "name": "stdout",
     "output_type": "stream",
     "text": [
      "{1, 2, 3, 5, 6}\n"
     ]
    }
   ],
   "source": [
    "## this will removes the particular given value\n",
    "s.remove(4)\n",
    "print(s)"
   ]
  },
  {
   "cell_type": "code",
   "execution_count": 52,
   "id": "ef0c450a-9d5d-419f-a863-80910fb32b3d",
   "metadata": {},
   "outputs": [
    {
     "name": "stdout",
     "output_type": "stream",
     "text": [
      "{1, 2, 3, 5, 6}\n"
     ]
    }
   ],
   "source": [
    "## dicard is used if the not prsent element in list we want to remove it we use discard\n",
    "s.discard(11)\n",
    "print(s)"
   ]
  },
  {
   "cell_type": "code",
   "execution_count": 53,
   "id": "b846ff29-32e2-4bec-aa0f-1e7bfa5cc618",
   "metadata": {},
   "outputs": [
    {
     "name": "stdout",
     "output_type": "stream",
     "text": [
      "1\n",
      "{2, 3, 5, 6}\n"
     ]
    }
   ],
   "source": [
    "## pop method removes the first elsment\n",
    "r=s.pop()\n",
    "print(r)\n",
    "print(s)"
   ]
  },
  {
   "cell_type": "code",
   "execution_count": 54,
   "id": "9b2c87b0-ce59-4c5c-ae58-c0abc5916759",
   "metadata": {},
   "outputs": [
    {
     "name": "stdout",
     "output_type": "stream",
     "text": [
      "set()\n"
     ]
    }
   ],
   "source": [
    "## clear all elements\n",
    "s.clear()\n",
    "print(s)"
   ]
  },
  {
   "cell_type": "code",
   "execution_count": 56,
   "id": "30822787-4b24-4e34-ace0-b96a6186150e",
   "metadata": {},
   "outputs": [
    {
     "name": "stdout",
     "output_type": "stream",
     "text": [
      "True\n",
      "False\n"
     ]
    }
   ],
   "source": [
    "## membership test\n",
    "s={1,2,3,4,5}\n",
    "print(3 in s)\n",
    "print(10 in s)\n",
    "\n"
   ]
  },
  {
   "cell_type": "code",
   "execution_count": 62,
   "id": "4173c7c2-fda4-4a29-ba0c-ff17e7946871",
   "metadata": {},
   "outputs": [
    {
     "name": "stdout",
     "output_type": "stream",
     "text": [
      "{1, 2, 3, 4, 5, 6, 9, 10}\n",
      "{4, 5}\n",
      "{4, 5}\n"
     ]
    }
   ],
   "source": [
    "## mathematical operations\n",
    "## union\n",
    "## intersection\n",
    "set1={1,2,3,4,5}\n",
    "set2={4,5,6,9,10}\n",
    "union_s=set1.union(set2)\n",
    "int_set=set1.intersection(set2)\n",
    "print(union_s)\n",
    "print(int_set)\n",
    "set1.intersection_update(set2)\n",
    "print(set1)"
   ]
  },
  {
   "cell_type": "code",
   "execution_count": 71,
   "id": "494c687e-482c-4fc5-a24c-75288c07f010",
   "metadata": {},
   "outputs": [
    {
     "name": "stdout",
     "output_type": "stream",
     "text": [
      "{1, 2, 3}\n"
     ]
    }
   ],
   "source": [
    "## difference methods gives the differnece the values from the s1 set\n",
    "s1={1,2,3,4,5}\n",
    "s2={4,5,6,7,8}\n",
    "print(s1.difference(s2))"
   ]
  },
  {
   "cell_type": "code",
   "execution_count": 72,
   "id": "aafe13ed-4ba0-404a-a22f-1a964da3747f",
   "metadata": {},
   "outputs": [
    {
     "data": {
      "text/plain": [
       "{1, 2, 3, 6, 9, 10}"
      ]
     },
     "execution_count": 72,
     "metadata": {},
     "output_type": "execute_result"
    }
   ],
   "source": [
    "#symetric differnce+ gives the dissimilar values from the both s1 and s2\n",
    "s1.symmetric_difference(set2)\n"
   ]
  },
  {
   "cell_type": "code",
   "execution_count": 77,
   "id": "d13cdabf-2f30-4480-a6ff-6b68c9543fbc",
   "metadata": {},
   "outputs": [
    {
     "name": "stdout",
     "output_type": "stream",
     "text": [
      "False\n",
      "False\n",
      "False\n",
      "True\n"
     ]
    }
   ],
   "source": [
    "## set methods\n",
    "s1={1,2,3}\n",
    "s2={4,5,6}\n",
    "s3={2,3}\n",
    "print(s1.issubset(s3))\n",
    "print(s1.issubset(s2))\n",
    "print(s1.issuperset(s2))\n",
    "print(s1.issuperset(s3))"
   ]
  },
  {
   "cell_type": "code",
   "execution_count": 78,
   "id": "bd73987b-577b-4f06-a641-aa21bf1827ef",
   "metadata": {},
   "outputs": [
    {
     "name": "stdout",
     "output_type": "stream",
     "text": [
      "{'classes', 'python', 'im', 'In', 'th', 'learning'}\n",
      "6\n"
     ]
    }
   ],
   "source": [
    "##counting unique words in text\n",
    "text=\"In th classes im learning python\"\n",
    "words=text.split()\n",
    "unique_words=set(words)\n",
    "print(unique_words)\n",
    "print(len(unique_words))"
   ]
  },
  {
   "cell_type": "code",
   "execution_count": null,
   "id": "5350a563-1d6e-445d-ae64-f98d983ee6cb",
   "metadata": {},
   "outputs": [],
   "source": []
  }
 ],
 "metadata": {
  "kernelspec": {
   "display_name": "Python 3 (ipykernel)",
   "language": "python",
   "name": "python3"
  },
  "language_info": {
   "codemirror_mode": {
    "name": "ipython",
    "version": 3
   },
   "file_extension": ".py",
   "mimetype": "text/x-python",
   "name": "python",
   "nbconvert_exporter": "python",
   "pygments_lexer": "ipython3",
   "version": "3.12.5"
  }
 },
 "nbformat": 4,
 "nbformat_minor": 5
}
