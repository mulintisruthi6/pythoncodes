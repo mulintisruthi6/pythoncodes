{
 "cells": [
  {
   "cell_type": "code",
   "execution_count": 1,
   "id": "d75a2927-3f10-4000-bb6c-9ae383861a78",
   "metadata": {},
   "outputs": [
    {
     "data": {
      "text/plain": [
       "2"
      ]
     },
     "execution_count": 1,
     "metadata": {},
     "output_type": "execute_result"
    }
   ],
   "source": [
    "5//2"
   ]
  },
  {
   "cell_type": "code",
   "execution_count": 2,
   "id": "6c46873f-88c6-4a9a-b0db-8c55b6e96423",
   "metadata": {},
   "outputs": [
    {
     "data": {
      "text/plain": [
       "2"
      ]
     },
     "execution_count": 2,
     "metadata": {},
     "output_type": "execute_result"
    }
   ],
   "source": [
    "10>>2"
   ]
  },
  {
   "cell_type": "code",
   "execution_count": 3,
   "id": "1faae1ee-fd9a-4f3f-a95f-d525ba39e774",
   "metadata": {},
   "outputs": [
    {
     "data": {
      "text/plain": [
       "40"
      ]
     },
     "execution_count": 3,
     "metadata": {},
     "output_type": "execute_result"
    }
   ],
   "source": [
    "10<<2"
   ]
  },
  {
   "cell_type": "code",
   "execution_count": 4,
   "id": "dda40547-d5a7-4ebd-b02f-7e0e8a0c4f5b",
   "metadata": {},
   "outputs": [
    {
     "data": {
      "text/plain": [
       "0"
      ]
     },
     "execution_count": 4,
     "metadata": {},
     "output_type": "execute_result"
    }
   ],
   "source": [
    "10&4"
   ]
  },
  {
   "cell_type": "code",
   "execution_count": 5,
   "id": "97efd9d6-d74c-4f50-a40a-65d348f335bf",
   "metadata": {},
   "outputs": [
    {
     "data": {
      "text/plain": [
       "14"
      ]
     },
     "execution_count": 5,
     "metadata": {},
     "output_type": "execute_result"
    }
   ],
   "source": [
    "10 | 4"
   ]
  },
  {
   "cell_type": "code",
   "execution_count": 6,
   "id": "ddb1b49b-f4f5-4b63-a8ee-a17368bc6233",
   "metadata": {},
   "outputs": [
    {
     "data": {
      "text/plain": [
       "-11"
      ]
     },
     "execution_count": 6,
     "metadata": {},
     "output_type": "execute_result"
    }
   ],
   "source": [
    "~10\n"
   ]
  },
  {
   "cell_type": "code",
   "execution_count": 7,
   "id": "a245958f-89e5-48c2-bfe4-c742768b760b",
   "metadata": {},
   "outputs": [
    {
     "data": {
      "text/plain": [
       "14"
      ]
     },
     "execution_count": 7,
     "metadata": {},
     "output_type": "execute_result"
    }
   ],
   "source": [
    "10^4"
   ]
  },
  {
   "cell_type": "code",
   "execution_count": 27,
   "id": "dc656ffe-f624-433d-824c-675171ae8081",
   "metadata": {},
   "outputs": [
    {
     "name": "stdout",
     "output_type": "stream",
     "text": [
      "True\n"
     ]
    }
   ],
   "source": [
    "c=2+5j\n",
    "k=bool(c)\n",
    "print(k)"
   ]
  },
  {
   "cell_type": "code",
   "execution_count": 11,
   "id": "57455210-20a0-499c-9a29-353c61ca1ce9",
   "metadata": {},
   "outputs": [
    {
     "ename": "SyntaxError",
     "evalue": "invalid decimal literal (2250578887.py, line 1)",
     "output_type": "error",
     "traceback": [
      "\u001b[1;36m  Cell \u001b[1;32mIn[11], line 1\u001b[1;36m\u001b[0m\n\u001b[1;33m    5sum=10\u001b[0m\n\u001b[1;37m    ^\u001b[0m\n\u001b[1;31mSyntaxError\u001b[0m\u001b[1;31m:\u001b[0m invalid decimal literal\n"
     ]
    }
   ],
   "source": [
    "5sum=10\n",
    "print(5sum)"
   ]
  },
  {
   "cell_type": "code",
   "execution_count": 13,
   "id": "03038330-85f7-4c1e-828b-3702346ce40d",
   "metadata": {},
   "outputs": [
    {
     "data": {
      "text/plain": [
       "2"
      ]
     },
     "execution_count": 13,
     "metadata": {},
     "output_type": "execute_result"
    }
   ],
   "source": [
    "5//2 #float division"
   ]
  },
  {
   "cell_type": "code",
   "execution_count": 14,
   "id": "747e0134-d4f1-4ca5-911e-da2dc7328c1d",
   "metadata": {
    "collapsed": true,
    "jupyter": {
     "outputs_hidden": true
    }
   },
   "outputs": [
    {
     "ename": "NameError",
     "evalue": "name 'true' is not defined",
     "output_type": "error",
     "traceback": [
      "\u001b[1;31m---------------------------------------------------------------------------\u001b[0m",
      "\u001b[1;31mNameError\u001b[0m                                 Traceback (most recent call last)",
      "Cell \u001b[1;32mIn[14], line 2\u001b[0m\n\u001b[0;32m      1\u001b[0m \u001b[38;5;66;03m#bitwise true or false program\u001b[39;00m\n\u001b[1;32m----> 2\u001b[0m \u001b[38;5;28mprint\u001b[39m(\u001b[43mtrue\u001b[49m \u001b[38;5;241m&\u001b[39m false)\n\u001b[0;32m      3\u001b[0m \u001b[38;5;28mprint\u001b[39m(true \u001b[38;5;241m|\u001b[39m false)\n\u001b[0;32m      4\u001b[0m \u001b[38;5;28mprint\u001b[39m(true \u001b[38;5;241m^\u001b[39m false)\n",
      "\u001b[1;31mNameError\u001b[0m: name 'true' is not defined"
     ]
    }
   ],
   "source": [
    "#bitwise true or false program\n",
    "print(true & false)\n",
    "print(true | false)\n",
    "print(true ^ false)\n",
    "print(~false)\n",
    "print(~true)\n",
    "print(true<<2)\n",
    "print(true>>2)"
   ]
  },
  {
   "cell_type": "code",
   "execution_count": 22,
   "id": "68c90c0b-fb2c-44f6-b1a2-45b56a07b20a",
   "metadata": {},
   "outputs": [
    {
     "name": "stdout",
     "output_type": "stream",
     "text": [
      "a+=b: 2\n",
      "a-=b: 2\n",
      "5\n",
      "2\n",
      "6\n"
     ]
    }
   ],
   "source": [
    "a=2\n",
    "b=3\n",
    "print(\"a+=b:\",a)\n",
    "print(\"a-=b:\",a)\n",
    "a+=b\n",
    "print(a)\n",
    "a-=b\n",
    "print(a)\n",
    "a*=b\n",
    "print(a)"
   ]
  },
  {
   "cell_type": "code",
   "execution_count": 26,
   "id": "78efa709-2631-4a4d-8ab0-0c0ae70dd87c",
   "metadata": {},
   "outputs": [
    {
     "name": "stdout",
     "output_type": "stream",
     "text": [
      "5\n",
      "8 8\n"
     ]
    }
   ],
   "source": [
    "a=2\n",
    "b=3\n",
    "a+=b\n",
    "print(a) #5\n",
    "print(a:=a+b,a)"
   ]
  },
  {
   "cell_type": "code",
   "execution_count": 28,
   "id": "b5d6c827-2a5d-48d0-a93a-82ed961d7606",
   "metadata": {},
   "outputs": [
    {
     "name": "stdout",
     "output_type": "stream",
     "text": [
      "5\n",
      "2\n",
      "6\n",
      "2.0\n",
      "2.0\n",
      "0.0\n",
      "0.0\n"
     ]
    }
   ],
   "source": [
    "a=2\n",
    "b=3\n",
    "a+=b\n",
    "print(a) #5\n",
    "a-=b\n",
    "print(a) #2\n",
    "a*=b\n",
    "print(a) #6\n",
    "a/=b\n",
    "print(a) #2.0\n",
    "a%=b\n",
    "print(a) \n",
    "a//=b\n",
    "print(a)\n",
    "a**=b\n",
    "print(a)\n"
   ]
  },
  {
   "cell_type": "code",
   "execution_count": 1,
   "id": "bd1cc586-940b-498b-be60-045637c3bcbe",
   "metadata": {},
   "outputs": [
    {
     "ename": "NameError",
     "evalue": "name 'k' is not defined",
     "output_type": "error",
     "traceback": [
      "\u001b[1;31m---------------------------------------------------------------------------\u001b[0m",
      "\u001b[1;31mNameError\u001b[0m                                 Traceback (most recent call last)",
      "Cell \u001b[1;32mIn[1], line 2\u001b[0m\n\u001b[0;32m      1\u001b[0m s\u001b[38;5;241m=\u001b[39m\u001b[38;5;124m\"\u001b[39m\u001b[38;5;124mpython\u001b[39m\u001b[38;5;124m\"\u001b[39m\n\u001b[1;32m----> 2\u001b[0m s[\u001b[38;5;241m1\u001b[39m]\u001b[38;5;241m=\u001b[39m\u001b[43mk\u001b[49m\n\u001b[0;32m      3\u001b[0m \u001b[38;5;28mprint\u001b[39m(s)\n",
      "\u001b[1;31mNameError\u001b[0m: name 'k' is not defined"
     ]
    }
   ],
   "source": [
    "s=\"python\"\n",
    "s[1]=k\n",
    "print(s)"
   ]
  },
  {
   "cell_type": "code",
   "execution_count": 2,
   "id": "96c0de6b-411a-4b39-92c3-a2c49cd6bcec",
   "metadata": {},
   "outputs": [
    {
     "name": "stdout",
     "output_type": "stream",
     "text": [
      "False\n",
      "True\n"
     ]
    }
   ],
   "source": [
    "a=10\n",
    "b=11\n",
    "print(a is b)\n",
    "print(a is not b)"
   ]
  },
  {
   "cell_type": "code",
   "execution_count": 4,
   "id": "e84f2de7-1ca7-4ebb-bfeb-7eaf78acb058",
   "metadata": {},
   "outputs": [
    {
     "name": "stdout",
     "output_type": "stream",
     "text": [
      "True\n",
      "False\n",
      "False\n",
      "True\n"
     ]
    }
   ],
   "source": [
    "s=\"python cls\"\n",
    "print(\"python\" in s)\n",
    "print(\"degree\" in s)\n",
    "print(\"python\" not in s)\n",
    "print(\"degree\" not in s)"
   ]
  },
  {
   "cell_type": "code",
   "execution_count": 6,
   "id": "5a571e2a-09fb-42b7-a590-72d32a090d6b",
   "metadata": {},
   "outputs": [
    {
     "name": "stdout",
     "output_type": "stream",
     "text": [
      "True\n",
      "True\n"
     ]
    }
   ],
   "source": [
    "l=[1,2,3,4,5]\n",
    "print(2 in l)\n",
    "print(6 not in l)"
   ]
  },
  {
   "cell_type": "code",
   "execution_count": 8,
   "id": "6368e291-486f-4d14-b878-d0b54502560f",
   "metadata": {},
   "outputs": [],
   "source": [
    "x=1\n",
    "if(x>9):\n",
    "    print(\"yes\")"
   ]
  },
  {
   "cell_type": "code",
   "execution_count": 10,
   "id": "40a7cf6b-90e6-433e-84bb-fab665ae2c3b",
   "metadata": {},
   "outputs": [
    {
     "name": "stdout",
     "output_type": "stream",
     "text": [
      "a is big\n"
     ]
    }
   ],
   "source": [
    "a=40\n",
    "b=20\n",
    "if(a>b):\n",
    "    print(\"a is big\")\n",
    "else:\n",
    "    print(\"b is big\")"
   ]
  },
  {
   "cell_type": "code",
   "execution_count": 6,
   "id": "d0b2667b-8903-449d-b896-bbd5a3e9d8c6",
   "metadata": {},
   "outputs": [
    {
     "name": "stdin",
     "output_type": "stream",
     "text": [
      " 2024\n"
     ]
    },
    {
     "name": "stdout",
     "output_type": "stream",
     "text": [
      "leap\n"
     ]
    }
   ],
   "source": [
    "year=int(input())\n",
    "if(year%4==0 and year%100!=0 or year%400==0):\n",
    "    print(\"leap\")\n",
    "else:\n",
    "    print(\"non leap\")"
   ]
  },
  {
   "cell_type": "code",
   "execution_count": 7,
   "id": "dba5746d-e0c0-4dab-b44b-94efb546263e",
   "metadata": {},
   "outputs": [
    {
     "name": "stdin",
     "output_type": "stream",
     "text": [
      " 9\n",
      " 7\n",
      " 8\n"
     ]
    },
    {
     "name": "stdout",
     "output_type": "stream",
     "text": [
      "a\n"
     ]
    }
   ],
   "source": [
    "a=int(input())\n",
    "b=int(input())\n",
    "c=int(input())\n",
    "if(a>b and a>c):\n",
    "    print(\"a\")\n",
    "elif(b>c):\n",
    "    print(\"b\")\n",
    "else:\n",
    "    print(\"c\")\n",
    "    \n",
    "\n"
   ]
  },
  {
   "cell_type": "code",
   "execution_count": null,
   "id": "b2478b09-a9ab-4a42-86a0-66f0aae35feb",
   "metadata": {},
   "outputs": [],
   "source": [
    "x=9\n",
    "y=7\n",
    "z=8\n"
   ]
  },
  {
   "cell_type": "code",
   "execution_count": null,
   "id": "3c9ec36b-1ef1-4269-abc8-186b6db010d6",
   "metadata": {},
   "outputs": [],
   "source": [
    "ch=input()\n",
    "if(ch=='v'):\n",
    "    print(\"v\")\n",
    "elif(ch=='i'):\n",
    "    print(\"i\")\n",
    "elif(ch=='b'):\n",
    "    print(\"b\")\n",
    "elif(ch=='g'):\n",
    "    print(\"g\")\n",
    "elif(ch=='y'):\n",
    "    print(\"y\")\n",
    "elif(ch=='o'):\n",
    "    print(\"o\")\n",
    "elif(ch=='r'):\n",
    "    print(\"r\")\n",
    "else:\n",
    "    print(\"not a colour\")"
   ]
  },
  {
   "cell_type": "code",
   "execution_count": 3,
   "id": "275cec51-dd1a-4f56-89f4-2fc6bda27d71",
   "metadata": {},
   "outputs": [
    {
     "name": "stdin",
     "output_type": "stream",
     "text": [
      " 55555\n"
     ]
    },
    {
     "name": "stdout",
     "output_type": "stream",
     "text": [
      "above 4 digit\n"
     ]
    }
   ],
   "source": [
    "num=int(input())\n",
    "if(num>=0 and num<=9):\n",
    "    print(\"one digit\")\n",
    "elif(num>=10 and num<=99):\n",
    "    print(\"two digit\")\n",
    "elif(num>=100 and num<=999):\n",
    "    print(\"three digit\")\n",
    "elif(num>=1000 and num<=9999):\n",
    "    print(\"four digit\")\n",
    "else:\n",
    "    print(\"above 4 digit\")"
   ]
  },
  {
   "cell_type": "code",
   "execution_count": 5,
   "id": "a180d535-a2f3-4c47-a010-d41324527561",
   "metadata": {},
   "outputs": [
    {
     "name": "stdin",
     "output_type": "stream",
     "text": [
      " 8\n"
     ]
    },
    {
     "name": "stdout",
     "output_type": "stream",
     "text": [
      "equal\n"
     ]
    }
   ],
   "source": [
    "x=int(input())\n",
    "if(x>0):\n",
    "    if(x!=10):\n",
    "        print(\"equal\")"
   ]
  },
  {
   "cell_type": "code",
   "execution_count": 9,
   "id": "bd50f97e-7aac-4e34-93cd-780668019807",
   "metadata": {},
   "outputs": [
    {
     "name": "stdin",
     "output_type": "stream",
     "text": [
      " 9\n"
     ]
    },
    {
     "name": "stdout",
     "output_type": "stream",
     "text": [
      "odd\n"
     ]
    }
   ],
   "source": [
    "x=int(input())\n",
    "if(x>0):\n",
    "    if(x%2==0):\n",
    "        print(\"even\")\n",
    "    else:\n",
    "        print(\"odd\")"
   ]
  },
  {
   "cell_type": "code",
   "execution_count": 12,
   "id": "07621590-1573-40d1-8883-8e6ea44a40c9",
   "metadata": {},
   "outputs": [
    {
     "name": "stdin",
     "output_type": "stream",
     "text": [
      " 98\n"
     ]
    },
    {
     "name": "stdout",
     "output_type": "stream",
     "text": [
      "topper\n"
     ]
    }
   ],
   "source": [
    "n=int(input())\n",
    "if(n>40):\n",
    "    if(n>90):\n",
    "        print(\"topper\")\n",
    "    elif(n>75):\n",
    "        print(\"avg\")\n",
    "    else:\n",
    "        print(\"nrml\")"
   ]
  },
  {
   "cell_type": "code",
   "execution_count": 3,
   "id": "6242a6e8-6e98-4d0e-aad5-d9bccb885b11",
   "metadata": {},
   "outputs": [
    {
     "name": "stdout",
     "output_type": "stream",
     "text": [
      "2\n",
      "4\n",
      "6\n",
      "8\n",
      "10\n",
      "12\n",
      "14\n",
      "16\n",
      "18\n",
      "20\n"
     ]
    }
   ],
   "source": [
    "for i in range(2,21,2):\n",
    "    print(i)"
   ]
  },
  {
   "cell_type": "code",
   "execution_count": 5,
   "id": "5436be00-54ae-447d-9d9c-a1b60002572e",
   "metadata": {},
   "outputs": [
    {
     "name": "stdout",
     "output_type": "stream",
     "text": [
      "1\n",
      "3\n",
      "5\n",
      "7\n",
      "9\n",
      "11\n",
      "13\n",
      "15\n",
      "17\n",
      "19\n"
     ]
    }
   ],
   "source": [
    "for i in range(1,21):\n",
    "    if(i%2!=0):\n",
    "        print(i)"
   ]
  },
  {
   "cell_type": "code",
   "execution_count": 6,
   "id": "859a4173-775d-4b44-84eb-c65075ca04b6",
   "metadata": {},
   "outputs": [
    {
     "name": "stdin",
     "output_type": "stream",
     "text": [
      " 4\n",
      " 9\n"
     ]
    },
    {
     "name": "stdout",
     "output_type": "stream",
     "text": [
      "4\n",
      "5\n",
      "6\n",
      "7\n",
      "8\n"
     ]
    }
   ],
   "source": [
    "s=int(input())\n",
    "e=int(input())\n",
    "for i in range(s,e):\n",
    "    print(i)"
   ]
  },
  {
   "cell_type": "code",
   "execution_count": 7,
   "id": "afa98ba8-7529-4406-911c-a3eae3886fb0",
   "metadata": {},
   "outputs": [
    {
     "name": "stdout",
     "output_type": "stream",
     "text": [
      "p\n",
      "y\n",
      "t\n",
      "h\n",
      "o\n",
      "n\n"
     ]
    }
   ],
   "source": [
    "s=\"python\"\n",
    "for i in s:\n",
    "    print(i)"
   ]
  },
  {
   "cell_type": "code",
   "execution_count": 8,
   "id": "2d5a002b-1fed-48bc-9835-d23297c2d130",
   "metadata": {},
   "outputs": [
    {
     "name": "stdout",
     "output_type": "stream",
     "text": [
      "1\n",
      "2\n",
      "3\n",
      "4\n"
     ]
    }
   ],
   "source": [
    "s=[1,2,3,4]\n",
    "for i in s:\n",
    "    print(i)"
   ]
  },
  {
   "cell_type": "code",
   "execution_count": 10,
   "id": "1aa63999-8cee-4638-bc05-171ba4f16cc7",
   "metadata": {},
   "outputs": [
    {
     "name": "stdout",
     "output_type": "stream",
     "text": [
      "1\n",
      "3\n",
      "6\n",
      "10\n",
      "15\n",
      "21\n",
      "28\n",
      "36\n",
      "45\n",
      "55\n",
      "66\n",
      "78\n",
      "91\n",
      "105\n",
      "120\n",
      "136\n",
      "153\n",
      "171\n",
      "190\n",
      "210\n"
     ]
    }
   ],
   "source": [
    "sum=0\n",
    "for i in range(1,21):\n",
    "    sum=sum+i\n",
    "    print(sum)"
   ]
  },
  {
   "cell_type": "code",
   "execution_count": 11,
   "id": "e154ece3-d77c-44b0-b7dc-5d2c10386593",
   "metadata": {},
   "outputs": [
    {
     "name": "stdout",
     "output_type": "stream",
     "text": [
      "2432902008176640000\n"
     ]
    }
   ],
   "source": [
    "prod=1\n",
    "for i in range(1,21):\n",
    "    prod=prod*i\n",
    "print(prod)"
   ]
  },
  {
   "cell_type": "code",
   "execution_count": null,
   "id": "d8591e0a-f3bb-45b5-9edd-e09f60b962d3",
   "metadata": {},
   "outputs": [],
   "source": [
    "fact=1\n",
    "n=int(input())\n",
    "for i in range(1,n+1):\n",
    "    fact=fact*i\n",
    "print(fact)\n"
   ]
  },
  {
   "cell_type": "code",
   "execution_count": null,
   "id": "6a4964c2-4645-4b4b-8c20-615f7eb91129",
   "metadata": {},
   "outputs": [],
   "source": [
    "fact=1\n",
    "n=int(input())\n",
    "for i in range(1,n+1):\n",
    "    fact=fact*i\n",
    "print(fact)"
   ]
  },
  {
   "cell_type": "code",
   "execution_count": 3,
   "id": "a0c39d57-4db3-4d09-a209-7190772ff510",
   "metadata": {},
   "outputs": [
    {
     "name": "stdout",
     "output_type": "stream",
     "text": [
      "3 X 1 = 3\n",
      "3 X 2 = 6\n",
      "3 X 3 = 9\n",
      "3 X 4 = 12\n",
      "3 X 5 = 15\n",
      "3 X 6 = 18\n",
      "3 X 7 = 21\n",
      "3 X 8 = 24\n",
      "3 X 9 = 27\n",
      "3 X 10 = 30\n",
      "3 X 11 = 33\n",
      "3 X 12 = 36\n",
      "3 X 13 = 39\n",
      "3 X 14 = 42\n",
      "3 X 15 = 45\n",
      "3 X 16 = 48\n",
      "3 X 17 = 51\n",
      "3 X 18 = 54\n",
      "3 X 19 = 57\n",
      "3 X 20 = 60\n"
     ]
    }
   ],
   "source": [
    "n=3\n",
    "for i in range(1,21):\n",
    "    print(n,\"X\" ,i,\"=\",n*i)"
   ]
  },
  {
   "cell_type": "code",
   "execution_count": 5,
   "id": "0c49c614-ecbe-45a2-89ff-6a654ceb5597",
   "metadata": {},
   "outputs": [
    {
     "name": "stdin",
     "output_type": "stream",
     "text": [
      " 121\n"
     ]
    },
    {
     "name": "stdout",
     "output_type": "stream",
     "text": [
      "121\n",
      "number palindrome\n"
     ]
    }
   ],
   "source": [
    "n=int(input())\n",
    "rev=0\n",
    "n1=n\n",
    "while(n!=0):\n",
    "    rem=n%10\n",
    "    n=n//10\n",
    "    rev=rev*10+rem\n",
    "print(rev)\n",
    "if (rev==n1):\n",
    "      print(\"number palindrome\")\n",
    "else:\n",
    "     print(\"not num palindrome\")"
   ]
  },
  {
   "cell_type": "code",
   "execution_count": 4,
   "id": "0e4dcbf8-0ce9-417f-93bf-34a0d953d344",
   "metadata": {},
   "outputs": [
    {
     "name": "stdout",
     "output_type": "stream",
     "text": [
      "1\n",
      "2\n"
     ]
    }
   ],
   "source": [
    "i=1\n",
    "while(i<6):\n",
    "    if i==3:\n",
    "        break\n",
    "    print(i)\n",
    "    i+=1"
   ]
  },
  {
   "cell_type": "code",
   "execution_count": 5,
   "id": "15a4dd59-11d2-41e7-ab8f-935f9333534f",
   "metadata": {},
   "outputs": [
    {
     "name": "stdout",
     "output_type": "stream",
     "text": [
      "2\n",
      "4\n",
      "5\n",
      "6\n"
     ]
    }
   ],
   "source": [
    "i=1\n",
    "while(i<6):\n",
    "    i+=1\n",
    "    if i==3:\n",
    "        continue\n",
    "    print(i)"
   ]
  },
  {
   "cell_type": "code",
   "execution_count": 7,
   "id": "55d6f425-b1e5-4eae-b9e2-9548109e7e40",
   "metadata": {},
   "outputs": [
    {
     "name": "stdin",
     "output_type": "stream",
     "text": [
      " 10\n"
     ]
    },
    {
     "name": "stdout",
     "output_type": "stream",
     "text": [
      "0\n",
      "1\n",
      "1\n",
      "2\n",
      "3\n",
      "5\n",
      "8\n",
      "13\n",
      "21\n",
      "34\n"
     ]
    }
   ],
   "source": [
    "n=int(input())\n",
    "f=0\n",
    "s=1\n",
    "t=0\n",
    "for i in range(1,n+1):\n",
    "    print(t)\n",
    "    f=s\n",
    "    s=t\n",
    "    t=f+s"
   ]
  },
  {
   "cell_type": "code",
   "execution_count": 3,
   "id": "c0687edf-fb0d-4c44-b515-4e401f3e9f27",
   "metadata": {},
   "outputs": [
    {
     "name": "stdin",
     "output_type": "stream",
     "text": [
      " 5\n"
     ]
    },
    {
     "name": "stdout",
     "output_type": "stream",
     "text": [
      "prime num\n"
     ]
    }
   ],
   "source": [
    "n=int(input())\n",
    "flag=1\n",
    "for i in range(2,int(n/2)):\n",
    "    rem=n%i\n",
    "    if(rem==0):\n",
    "        flag=0\n",
    "        break\n",
    "    else:\n",
    "        flag=1\n",
    "if(flag==1 and n>1):\n",
    "    print(\"prime num\")\n",
    "else:\n",
    "    print(\"not prime\")"
   ]
  },
  {
   "cell_type": "code",
   "execution_count": 7,
   "id": "d3906c8f-aad0-42d8-8a09-3c7c9a2dddbc",
   "metadata": {},
   "outputs": [
    {
     "name": "stdin",
     "output_type": "stream",
     "text": [
      " 145\n"
     ]
    },
    {
     "name": "stdout",
     "output_type": "stream",
     "text": [
      "190\n",
      "not armstrong num\n"
     ]
    }
   ],
   "source": [
    "import math\n",
    "n=int(input())\n",
    "sum=0\n",
    "count=0\n",
    "n2=n1=n\n",
    "while(n1!=0):\n",
    "    count+=1\n",
    "    n1=n1//10\n",
    "while(n!=0):\n",
    "    rem=n%10\n",
    "    sum=sum+pow(rem,count)\n",
    "    n=n//10\n",
    "print(sum)\n",
    "if(sum==n2):\n",
    "    print(\"armstrong num\")\n",
    "else:\n",
    "    print(\"not armstrong num\")"
   ]
  },
  {
   "cell_type": "code",
   "execution_count": 3,
   "id": "78ad65e0-333b-4de5-b042-3b2925857f24",
   "metadata": {},
   "outputs": [
    {
     "name": "stdin",
     "output_type": "stream",
     "text": [
      " rent\n"
     ]
    },
    {
     "name": "stdout",
     "output_type": "stream",
     "text": [
      "not string palindrome\n"
     ]
    }
   ],
   "source": [
    "str=input()\n",
    "l=len(str)\n",
    "j=l-1\n",
    "flag=1\n",
    "for i in range(0,l//2):\n",
    "    if(str[i]==str[j]):\n",
    "        flag=1\n",
    "    else:\n",
    "        flag=0\n",
    "        break\n",
    "    j=j-1\n",
    "if(flag==1):\n",
    "    print(\"string palindrome\")\n",
    "else:\n",
    "    print(\"not string palindrome\")"
   ]
  },
  {
   "cell_type": "code",
   "execution_count": 4,
   "id": "3569e0f5-3418-4dbb-95df-488956047615",
   "metadata": {},
   "outputs": [
    {
     "name": "stdout",
     "output_type": "stream",
     "text": [
      "114\n"
     ]
    }
   ],
   "source": [
    "ch='r'\n",
    "print(ord(ch))"
   ]
  },
  {
   "cell_type": "code",
   "execution_count": 8,
   "id": "0c7443ce-bf38-4672-b546-f9a45616572b",
   "metadata": {},
   "outputs": [
    {
     "ename": "SyntaxError",
     "evalue": "invalid syntax (2048708529.py, line 2)",
     "output_type": "error",
     "traceback": [
      "\u001b[1;36m  Cell \u001b[1;32mIn[8], line 2\u001b[1;36m\u001b[0m\n\u001b[1;33m    int k=ch\u001b[0m\n\u001b[1;37m        ^\u001b[0m\n\u001b[1;31mSyntaxError\u001b[0m\u001b[1;31m:\u001b[0m invalid syntax\n"
     ]
    }
   ],
   "source": [
    "ch='k'\n",
    "int k=ch\n",
    "print(k)"
   ]
  },
  {
   "cell_type": "code",
   "execution_count": 9,
   "id": "7800ff5a-2853-4d7c-ab7f-562f4329b5cc",
   "metadata": {},
   "outputs": [
    {
     "name": "stdout",
     "output_type": "stream",
     "text": [
      "7\n",
      "5\n",
      "0.8509035245341184\n",
      "0.15425144988758405\n",
      "8.0\n",
      "7.0\n",
      "7.38905609893065\n",
      "0.6931471805599453\n",
      "12\n",
      "2\n",
      "0.3010299956639812\n"
     ]
    }
   ],
   "source": [
    "import math\n",
    "k=math.ceil(6.78)\n",
    "print(k)\n",
    "k=math.floor(5.43)\n",
    "print(k)\n",
    "k=math.sin(45)\n",
    "print(k)\n",
    "k=math.cos(30)\n",
    "print(k)\n",
    "k=math.pow(2,3)\n",
    "print(k)\n",
    "k=math.sqrt(49)\n",
    "print(k)\n",
    "k=math.exp(2)\n",
    "print(k)\n",
    "k=math.log(2)\n",
    "print(k)\n",
    "k=math.lcm(2,4,6)\n",
    "print(k)\n",
    "k=math.gcd(2,4,6)\n",
    "print(k)\n",
    "k=math.log10(2)\n",
    "print(k)"
   ]
  },
  {
   "cell_type": "code",
   "execution_count": 3,
   "id": "c83aa7f8-39d9-4024-95d1-57b8ea258fa1",
   "metadata": {},
   "outputs": [
    {
     "name": "stdout",
     "output_type": "stream",
     "text": [
      "3.0\n"
     ]
    }
   ],
   "source": [
    "def avg(n1,n2,n3):\n",
    "    print((n1+n2+n3)/3)\n",
    "avg(2,3,4)"
   ]
  },
  {
   "cell_type": "code",
   "execution_count": 5,
   "id": "adbc1279-4917-422e-9260-8b8072d9a02c",
   "metadata": {},
   "outputs": [
    {
     "name": "stdout",
     "output_type": "stream",
     "text": [
      "python cls\n",
      "python cls\n"
     ]
    }
   ],
   "source": [
    "def sri():\n",
    "    print(\"python cls\")\n",
    "sri()\n",
    "sri()"
   ]
  },
  {
   "cell_type": "code",
   "execution_count": null,
   "id": "6b2a67b6-f2f2-4fd7-9401-ffca524ffb52",
   "metadata": {},
   "outputs": [],
   "source": [
    "def wish(name):\n",
    "    print(\"hi\",name,\"gd mrng\")\n",
    "wish(input())"
   ]
  },
  {
   "cell_type": "code",
   "execution_count": 1,
   "id": "2a7f83b2-6469-4b02-b11f-f283fc9a8c33",
   "metadata": {},
   "outputs": [
    {
     "name": "stdout",
     "output_type": "stream",
     "text": [
      "20\n",
      "5\n"
     ]
    }
   ],
   "source": [
    "#global varibale\n",
    "a=10\n",
    "def add():\n",
    "    print(a+10)\n",
    "def sub():\n",
    "    print(a-5)\n",
    "add()\n",
    "sub()\n",
    "    "
   ]
  },
  {
   "cell_type": "code",
   "execution_count": 5,
   "id": "bccadafd-4968-48f6-8094-0e099346d8d2",
   "metadata": {},
   "outputs": [
    {
     "name": "stdout",
     "output_type": "stream",
     "text": [
      "20\n",
      "10\n"
     ]
    }
   ],
   "source": [
    "#local variable\n",
    "def add():\n",
    "    #a=10\n",
    "    print(a+10)\n",
    "def sub():\n",
    "    print(a)\n",
    "add()\n",
    "sub()"
   ]
  },
  {
   "cell_type": "code",
   "execution_count": null,
   "id": "d6f5cd40-70a6-4de5-a989-b7d2a5721be0",
   "metadata": {},
   "outputs": [],
   "source": []
  }
 ],
 "metadata": {
  "kernelspec": {
   "display_name": "Python 3 (ipykernel)",
   "language": "python",
   "name": "python3"
  },
  "language_info": {
   "codemirror_mode": {
    "name": "ipython",
    "version": 3
   },
   "file_extension": ".py",
   "mimetype": "text/x-python",
   "name": "python",
   "nbconvert_exporter": "python",
   "pygments_lexer": "ipython3",
   "version": "3.12.5"
  }
 },
 "nbformat": 4,
 "nbformat_minor": 5
}
