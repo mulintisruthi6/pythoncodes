{
 "cells": [
  {
   "cell_type": "code",
   "execution_count": 1,
   "id": "5f8c6a0b-95cd-4528-a757-d1d754ecb839",
   "metadata": {},
   "outputs": [
    {
     "name": "stdout",
     "output_type": "stream",
     "text": [
      "age: 32\n",
      "height 6.1\n",
      "name sruthi\n"
     ]
    }
   ],
   "source": [
    "## Declaring ans assiging a variable\n",
    "age=32\n",
    "height=6.1\n",
    "name=\"sruthi\"\n",
    "print(\"age:\",age)\n",
    "print(\"height\",height)\n",
    "print(\"name\",name)"
   ]
  },
  {
   "cell_type": "code",
   "execution_count": 5,
   "id": "14a4ef85-86fa-44dd-ab52-ce7bc16499db",
   "metadata": {},
   "outputs": [
    {
     "name": "stdout",
     "output_type": "stream",
     "text": [
      "sruthi\n",
      "reddy\n"
     ]
    }
   ],
   "source": [
    "## naming conversion\n",
    "frst_n=\"sruthi\"\n",
    "last_n=\"reddy\"\n",
    "print(frst_n)\n",
    "print(last_n)"
   ]
  },
  {
   "cell_type": "code",
   "execution_count": 7,
   "id": "f453301e-9570-4a26-80a6-37f968ee0721",
   "metadata": {},
   "outputs": [
    {
     "name": "stdout",
     "output_type": "stream",
     "text": [
      "<class 'float'>\n",
      "<class 'int'>\n",
      "3\n"
     ]
    }
   ],
   "source": [
    "## type checking and type conversion\n",
    "h=3.5\n",
    "k=int(h)\n",
    "print(type(h))\n",
    "print(type(k))\n",
    "print(k)"
   ]
  },
  {
   "cell_type": "code",
   "execution_count": 8,
   "id": "75d7a0ef-8003-45dd-9ae1-8bed5ec7c805",
   "metadata": {},
   "outputs": [
    {
     "name": "stdout",
     "output_type": "stream",
     "text": [
      "<class 'int'>\n"
     ]
    }
   ],
   "source": [
    "## converting from string to int\n",
    "age='32'\n",
    "print(type(int(age)))"
   ]
  },
  {
   "cell_type": "code",
   "execution_count": 9,
   "id": "7111efe2-d32e-422b-9259-099ce3919c63",
   "metadata": {},
   "outputs": [
    {
     "ename": "ValueError",
     "evalue": "invalid literal for int() with base 10: 'sruthi'",
     "output_type": "error",
     "traceback": [
      "\u001b[1;31m---------------------------------------------------------------------------\u001b[0m",
      "\u001b[1;31mValueError\u001b[0m                                Traceback (most recent call last)",
      "Cell \u001b[1;32mIn[9], line 2\u001b[0m\n\u001b[0;32m      1\u001b[0m name\u001b[38;5;241m=\u001b[39m\u001b[38;5;124m\"\u001b[39m\u001b[38;5;124msruthi\u001b[39m\u001b[38;5;124m\"\u001b[39m\n\u001b[1;32m----> 2\u001b[0m \u001b[38;5;28mprint\u001b[39m(\u001b[38;5;28;43mint\u001b[39;49m\u001b[43m(\u001b[49m\u001b[43mname\u001b[49m\u001b[43m)\u001b[49m)\n",
      "\u001b[1;31mValueError\u001b[0m: invalid literal for int() with base 10: 'sruthi'"
     ]
    }
   ],
   "source": [
    "name=\"sruthi\"\n",
    "print(int(name))"
   ]
  },
  {
   "cell_type": "code",
   "execution_count": 10,
   "id": "af123766-ff30-4d7b-b0d2-5c9e9cc3fa75",
   "metadata": {},
   "outputs": [
    {
     "name": "stdout",
     "output_type": "stream",
     "text": [
      "10 <class 'int'>\n",
      "hi <class 'str'>\n",
      "3.2 <class 'float'>\n"
     ]
    }
   ],
   "source": [
    "## Dynamic typing\n",
    "v=10\n",
    "print(v,type(v))\n",
    "v=\"hi\"\n",
    "print(v,type(v))\n",
    "v=3.2\n",
    "print(v,type(v))"
   ]
  },
  {
   "cell_type": "code",
   "execution_count": 14,
   "id": "9a8ab8e3-d8f7-47c2-9975-4e1d36db72e7",
   "metadata": {},
   "outputs": [
    {
     "name": "stdin",
     "output_type": "stream",
     "text": [
      "what is the age 23\n"
     ]
    },
    {
     "name": "stdout",
     "output_type": "stream",
     "text": [
      "23 <class 'int'>\n"
     ]
    }
   ],
   "source": [
    "## input\n",
    "age=int(input(\"what is the age\"))\n",
    "print(age,type(age))"
   ]
  },
  {
   "cell_type": "code",
   "execution_count": 15,
   "id": "e1cbed0d-ca28-4d9a-8c75-580b69c06d67",
   "metadata": {},
   "outputs": [
    {
     "name": "stdin",
     "output_type": "stream",
     "text": [
      " 3\n",
      " 4.5\n"
     ]
    },
    {
     "name": "stdout",
     "output_type": "stream",
     "text": [
      "sum 7.5\n",
      "sub 0.6666666666666666\n",
      "mul 13.5\n",
      "div 0.6666666666666666\n"
     ]
    }
   ],
   "source": [
    "## simple calucation\n",
    "n1=int(input())\n",
    "n2=float(input())\n",
    "s=n1+n2\n",
    "d=n1-n2\n",
    "m=n1*n2\n",
    "d=n1/n2\n",
    "print(\"sum\",s)\n",
    "print(\"sub\",d)\n",
    "print(\"mul\",m)\n",
    "print(\"div\",d)"
   ]
  },
  {
   "cell_type": "code",
   "execution_count": null,
   "id": "71109199-224c-4ce8-bdb0-0fe00496691f",
   "metadata": {},
   "outputs": [],
   "source": []
  }
 ],
 "metadata": {
  "kernelspec": {
   "display_name": "Python 3 (ipykernel)",
   "language": "python",
   "name": "python3"
  },
  "language_info": {
   "codemirror_mode": {
    "name": "ipython",
    "version": 3
   },
   "file_extension": ".py",
   "mimetype": "text/x-python",
   "name": "python",
   "nbconvert_exporter": "python",
   "pygments_lexer": "ipython3",
   "version": "3.12.5"
  }
 },
 "nbformat": 4,
 "nbformat_minor": 5
}
