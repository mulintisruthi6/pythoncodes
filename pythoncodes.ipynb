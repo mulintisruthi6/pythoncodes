{
 "cells": [
  {
   "cell_type": "code",
   "execution_count": 1,
   "id": "9edc59c0-b97a-4a8e-bb4f-f7004382e27d",
   "metadata": {},
   "outputs": [
    {
     "name": "stdout",
     "output_type": "stream",
     "text": [
      "sruthi\n",
      "mulinti\n"
     ]
    }
   ],
   "source": [
    "## case sensitive\n",
    "## when the both the uppercase and lowercase letters are different\n",
    "name=\"sruthi\"\n",
    "Name=\"mulinti\"\n",
    "print(name)\n",
    "print(Name)"
   ]
  },
  {
   "cell_type": "code",
   "execution_count": 2,
   "id": "2c0fd9ed-a20f-4f20-b608-1c881cdbdf40",
   "metadata": {},
   "outputs": [
    {
     "name": "stdout",
     "output_type": "stream",
     "text": [
      "32\n",
      "32\n"
     ]
    }
   ],
   "source": [
    "##indentation\n",
    "## it represnts with in the block \n",
    "age=32\n",
    "if age>30:\n",
    "    print(age)\n",
    "print(age)"
   ]
  },
  {
   "cell_type": "code",
   "execution_count": 1,
   "id": "f8a69f85-36df-4352-bcae-2c286eaec3c6",
   "metadata": {},
   "outputs": [
    {
     "name": "stdout",
     "output_type": "stream",
     "text": [
      "hello world\n"
     ]
    }
   ],
   "source": [
    "## single line comment\n",
    "print(\"hello world\")"
   ]
  },
  {
   "cell_type": "code",
   "execution_count": 2,
   "id": "7a84dc7a-8e5b-41c9-8749-ec03d2a2c25a",
   "metadata": {},
   "outputs": [
    {
     "name": "stdout",
     "output_type": "stream",
     "text": [
      "34\n"
     ]
    }
   ],
   "source": [
    "## line continuation( use blackslash\\ to contiue in next line)\n",
    "tot=2+3+5+8+7+\\\n",
    "4+5\n",
    "print(tot)"
   ]
  },
  {
   "cell_type": "code",
   "execution_count": 3,
   "id": "98117f73-862c-458c-a203-b1e6def8a129",
   "metadata": {},
   "outputs": [
    {
     "name": "stdout",
     "output_type": "stream",
     "text": [
      "30\n"
     ]
    }
   ],
   "source": [
    "##multiple statements in a single line\n",
    "x=10;y=20;z=x+y\n",
    "print(z)"
   ]
  },
  {
   "cell_type": "code",
   "execution_count": 5,
   "id": "63a04313-5d2e-4f51-befa-811810d42bd2",
   "metadata": {},
   "outputs": [
    {
     "name": "stdout",
     "output_type": "stream",
     "text": [
      "<class 'int'>\n",
      "<class 'str'>\n"
     ]
    }
   ],
   "source": [
    "## finding the type of the given variables\n",
    "age=30\n",
    "name=\"krish\"\n",
    "print(type(age))\n",
    "print(type(name))"
   ]
  },
  {
   "cell_type": "code",
   "execution_count": 6,
   "id": "78a47d03-867f-4e2a-aac0-ae34a9b46966",
   "metadata": {},
   "outputs": [
    {
     "name": "stdout",
     "output_type": "stream",
     "text": [
      "<class 'int'>\n",
      "<class 'str'>\n"
     ]
    }
   ],
   "source": [
    "## type interface\n",
    "# means it will be change for everytime accoding to the giving values to the variable\n",
    "var=10\n",
    "print(type(var))\n",
    "var=\"sruthi\"\n",
    "print(type(var))"
   ]
  },
  {
   "cell_type": "code",
   "execution_count": 7,
   "id": "945baa48-c14a-4e96-850e-0060f2d2ee15",
   "metadata": {},
   "outputs": [
    {
     "ename": "IndentationError",
     "evalue": "expected an indented block after 'if' statement on line 3 (2696487778.py, line 4)",
     "output_type": "error",
     "traceback": [
      "\u001b[1;36m  Cell \u001b[1;32mIn[7], line 4\u001b[1;36m\u001b[0m\n\u001b[1;33m    print(a)\u001b[0m\n\u001b[1;37m    ^\u001b[0m\n\u001b[1;31mIndentationError\u001b[0m\u001b[1;31m:\u001b[0m expected an indented block after 'if' statement on line 3\n"
     ]
    }
   ],
   "source": [
    "## identataion error\n",
    "## must follow identation\n",
    "a=20\n",
    "if a>2:\n",
    "print(a)"
   ]
  },
  {
   "cell_type": "code",
   "execution_count": 8,
   "id": "58b8430a-1e8a-4a28-b7a4-511199455616",
   "metadata": {},
   "outputs": [
    {
     "ename": "NameError",
     "evalue": "name 'b' is not defined",
     "output_type": "error",
     "traceback": [
      "\u001b[1;31m---------------------------------------------------------------------------\u001b[0m",
      "\u001b[1;31mNameError\u001b[0m                                 Traceback (most recent call last)",
      "Cell \u001b[1;32mIn[8], line 2\u001b[0m\n\u001b[0;32m      1\u001b[0m \u001b[38;5;66;03m## name Error\u001b[39;00m\n\u001b[1;32m----> 2\u001b[0m a\u001b[38;5;241m=\u001b[39m\u001b[43mb\u001b[49m\n",
      "\u001b[1;31mNameError\u001b[0m: name 'b' is not defined"
     ]
    }
   ],
   "source": [
    "## name Error\n",
    "# it gives because the b is not given\n",
    "a=b"
   ]
  },
  {
   "cell_type": "code",
   "execution_count": 9,
   "id": "19ce55e1-6428-4479-abdd-3d5f664e8925",
   "metadata": {},
   "outputs": [
    {
     "name": "stdout",
     "output_type": "stream",
     "text": [
      "correct Indentation\n",
      "this will print\n",
      "out the if block\n"
     ]
    }
   ],
   "source": [
    "## code examples of indentation\n",
    "if True:\n",
    "    print(\"correct Indentation\")\n",
    "    if False:\n",
    "        print(\"this ont print\")\n",
    "    print(\"this will print\")\n",
    "print(\"out the if block\")"
   ]
  },
  {
   "cell_type": "code",
   "execution_count": null,
   "id": "a07a9d7b-49fc-49f3-9919-26887845b273",
   "metadata": {},
   "outputs": [],
   "source": []
  }
 ],
 "metadata": {
  "kernelspec": {
   "display_name": "Python 3 (ipykernel)",
   "language": "python",
   "name": "python3"
  },
  "language_info": {
   "codemirror_mode": {
    "name": "ipython",
    "version": 3
   },
   "file_extension": ".py",
   "mimetype": "text/x-python",
   "name": "python",
   "nbconvert_exporter": "python",
   "pygments_lexer": "ipython3",
   "version": "3.12.5"
  }
 },
 "nbformat": 4,
 "nbformat_minor": 5
}
