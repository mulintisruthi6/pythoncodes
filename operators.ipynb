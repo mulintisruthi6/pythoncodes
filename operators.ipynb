{
 "cells": [
  {
   "cell_type": "code",
   "execution_count": 1,
   "id": "3ed8a31e-e08d-4e33-9de0-81670e5fbd4f",
   "metadata": {},
   "outputs": [
    {
     "name": "stdout",
     "output_type": "stream",
     "text": [
      "15\n",
      "5\n",
      "50\n",
      "2.0\n",
      "2\n",
      "0\n",
      "100000\n"
     ]
    }
   ],
   "source": [
    "## arithematic operations\n",
    "a=10\n",
    "b=5\n",
    "add=a+b\n",
    "sub=a-b\n",
    "mul=a*b\n",
    "div=a/b\n",
    "floor_div=a//b\n",
    "mod=a%b\n",
    "exp=a**b\n",
    "print(add)\n",
    "print(sub)\n",
    "print(mul)\n",
    "print(div)\n",
    "print(floor_div)\n",
    "print(mod)\n",
    "print(exp)"
   ]
  },
  {
   "cell_type": "code",
   "execution_count": 2,
   "id": "f3fe3b79-e583-4fe5-8273-b2fa0e73d616",
   "metadata": {},
   "outputs": [
    {
     "data": {
      "text/plain": [
       "True"
      ]
     },
     "execution_count": 2,
     "metadata": {},
     "output_type": "execute_result"
    }
   ],
   "source": [
    "## comparision opertor\n",
    "a=10\n",
    "b=10\n",
    "a==b"
   ]
  },
  {
   "cell_type": "code",
   "execution_count": 6,
   "id": "1adc0fc5-23b2-40ce-a495-0a0919d24f1f",
   "metadata": {},
   "outputs": [
    {
     "data": {
      "text/plain": [
       "True"
      ]
     },
     "execution_count": 6,
     "metadata": {},
     "output_type": "execute_result"
    }
   ],
   "source": [
    "## equal to \n",
    "str1=\"sruthi\"\n",
    "str2=\"sruthi\"\n",
    "str1==str2"
   ]
  },
  {
   "cell_type": "code",
   "execution_count": 7,
   "id": "f52ae8ce-e488-4ea6-b876-6e774482a6ba",
   "metadata": {},
   "outputs": [
    {
     "data": {
      "text/plain": [
       "True"
      ]
     },
     "execution_count": 7,
     "metadata": {},
     "output_type": "execute_result"
    }
   ],
   "source": [
    "## not equal to\n",
    "s=\"reddy\"\n",
    "s1=\"sruthi\"\n",
    "s1!=s\n"
   ]
  },
  {
   "cell_type": "code",
   "execution_count": 9,
   "id": "63557241-9423-410b-ad96-a305d4e29971",
   "metadata": {},
   "outputs": [
    {
     "name": "stdout",
     "output_type": "stream",
     "text": [
      "False\n",
      "True\n"
     ]
    }
   ],
   "source": [
    "# less than and greaterthan operator\n",
    "n1=55\n",
    "n2=65\n",
    "print(n1>n2)\n",
    "print(n1<n2)"
   ]
  },
  {
   "cell_type": "code",
   "execution_count": 10,
   "id": "65437973-898e-43d6-bbb9-d99e9afa173d",
   "metadata": {},
   "outputs": [
    {
     "name": "stdout",
     "output_type": "stream",
     "text": [
      "True\n",
      "True\n"
     ]
    }
   ],
   "source": [
    "# lessthan or equal to and greaterthan equal to\n",
    "n1=45\n",
    "n2=45\n",
    "print(n1<=n2)\n",
    "print(n2>=n2)"
   ]
  },
  {
   "cell_type": "code",
   "execution_count": 12,
   "id": "286cccaf-643a-4e96-841e-a361a1ad977a",
   "metadata": {},
   "outputs": [
    {
     "name": "stdout",
     "output_type": "stream",
     "text": [
      "True\n"
     ]
    }
   ],
   "source": [
    "## logical operators\n",
    "## And ,not,or \n",
    "x=True\n",
    "y=True\n",
    "res=x and y\n",
    "print(res)"
   ]
  },
  {
   "cell_type": "code",
   "execution_count": 13,
   "id": "4af007e8-4039-42dd-ad3c-e3879fe5880f",
   "metadata": {},
   "outputs": [
    {
     "name": "stdout",
     "output_type": "stream",
     "text": [
      "False\n"
     ]
    }
   ],
   "source": [
    "#And= in and operator both are true the result is true\n",
    "x=True\n",
    "y=False\n",
    "res=x and y\n",
    "print(res)"
   ]
  },
  {
   "cell_type": "code",
   "execution_count": 14,
   "id": "91df94d9-c7cf-4edf-b35a-0de04354cae3",
   "metadata": {},
   "outputs": [
    {
     "name": "stdout",
     "output_type": "stream",
     "text": [
      "True\n"
     ]
    }
   ],
   "source": [
    "#Or= in or when the one is true the output is true\n",
    "x=True\n",
    "y=True\n",
    "res=x or y\n",
    "print(res)"
   ]
  },
  {
   "cell_type": "code",
   "execution_count": 15,
   "id": "5a5c2991-3d5a-427a-a6e9-feb3a7f39ab4",
   "metadata": {},
   "outputs": [
    {
     "name": "stdout",
     "output_type": "stream",
     "text": [
      "False\n"
     ]
    }
   ],
   "source": [
    "## not = it gives the oppisite\n",
    "x=True\n",
    "print(not x)"
   ]
  },
  {
   "cell_type": "code",
   "execution_count": null,
   "id": "ef02f3be-8a1b-4107-bee8-1b71c4897a52",
   "metadata": {},
   "outputs": [],
   "source": []
  }
 ],
 "metadata": {
  "kernelspec": {
   "display_name": "Python 3 (ipykernel)",
   "language": "python",
   "name": "python3"
  },
  "language_info": {
   "codemirror_mode": {
    "name": "ipython",
    "version": 3
   },
   "file_extension": ".py",
   "mimetype": "text/x-python",
   "name": "python",
   "nbconvert_exporter": "python",
   "pygments_lexer": "ipython3",
   "version": "3.12.5"
  }
 },
 "nbformat": 4,
 "nbformat_minor": 5
}
