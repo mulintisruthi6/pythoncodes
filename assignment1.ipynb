{
 "cells": [
  {
   "cell_type": "markdown",
   "id": "427db13e-cdf9-4a4c-a683-f92549ddf206",
   "metadata": {},
   "source": [
    "```c\n",
    "1.In the below elements which of them are values of an expresion?\n",
    "eg: values can be integer or string and expression will be mathematical operations\n",
    "- 'hello'-87.8\n",
    "-  /\n",
    "-  6\n",
    "values:\"hello\",-87.8 and 6 Expressions:*,-,+,/\n",
    "2. what is the difference between string and variable?\n",
    "variable: which is used to store a value or data\n",
    "string: string should be enclosed b/w the quotes that should be stored in the varible.\n",
    "3. Describe three different datatypes?\n",
    "Boolean: It is reprsent with bool which returns the True or False means 0 or 1 based on the conditions\n",
    "ex: a>b\n",
    "    a=10\n",
    "    b=20\n",
    "    a>b=0(F)\n",
    "int: It is represent to store the integers values is nothing but the natural numbers.\n",
    "ex: a=10, b=20\n",
    "float:It is used to store the values like decimal values.\n",
    "ex: a=2.5\n",
    "4. What is expreesion madeup of?\n",
    "   The expressions should conatins the logical operators,arithematic operators with variables and values.\n",
    "\n",
    "```"
   ]
  },
  {
   "cell_type": "markdown",
   "id": "a284a62b-2e51-42d8-85c6-e5bc4f9ce047",
   "metadata": {},
   "source": [
    "```c \n",
    "after running the sruthi code adding +5 what will be the output\n",
    "```"
   ]
  },
  {
   "cell_type": "code",
   "execution_count": 1,
   "id": "41751d70-6066-4bcd-9492-d942fdc3f77b",
   "metadata": {},
   "outputs": [
    {
     "data": {
      "text/plain": [
       "50"
      ]
     },
     "execution_count": 1,
     "metadata": {},
     "output_type": "execute_result"
    }
   ],
   "source": [
    "sruthi=45\n",
    "sruthi+5\n",
    "# here the sruthi wont change not performing any operation"
   ]
  },
  {
   "cell_type": "markdown",
   "id": "6586bfaf-4dbd-46b6-8432-577fd32383cf",
   "metadata": {},
   "source": [
    "```c \n",
    "printing the sruthi(string) by adding the sruthisruthi  in these we are adding the string with another string ```"
   ]
  },
  {
   "cell_type": "code",
   "execution_count": 2,
   "id": "741d8001-332c-48a2-8a48-77c5b9b2cd99",
   "metadata": {},
   "outputs": [
    {
     "name": "stdout",
     "output_type": "stream",
     "text": [
      "sruthisruthisruthi\n"
     ]
    }
   ],
   "source": [
    "print('sruthi'+'sruthisruthi')"
   ]
  },
  {
   "cell_type": "markdown",
   "id": "e7896399-c531-497f-a80e-7a1e2c55c78e",
   "metadata": {},
   "source": [
    "```c\n",
    "in this method we multiplying the string (sruthi) with the integer\n",
    "then we get the string with which number we apply we get those times\n",
    "```"
   ]
  },
  {
   "cell_type": "code",
   "execution_count": 3,
   "id": "e44f4e7d-f916-4d91-b242-53049fe8efeb",
   "metadata": {
    "scrolled": true
   },
   "outputs": [
    {
     "name": "stdout",
     "output_type": "stream",
     "text": [
      "sruthisruthisruthisruthi\n"
     ]
    }
   ],
   "source": [
    "print('sruthi'*4) #multiply with 4 we get 4 times sruthi"
   ]
  },
  {
   "cell_type": "markdown",
   "id": "624bb973-1220-420e-9ccb-bc7a73fd11da",
   "metadata": {},
   "source": [
    "```c \n",
    "variable name should be valid must be a alphabets \n",
    "we cant use the number as a varibale name it should gives an error\n",
    "```"
   ]
  },
  {
   "cell_type": "code",
   "execution_count": 8,
   "id": "380e0080-e083-4ac2-9c9d-6489943569fb",
   "metadata": {},
   "outputs": [
    {
     "name": "stdout",
     "output_type": "stream",
     "text": [
      "10\n"
     ]
    }
   ],
   "source": [
    "s=10 # valid variable\n",
    "print(s)"
   ]
  },
  {
   "cell_type": "code",
   "execution_count": 9,
   "id": "4f4d2797-3d81-49de-b5e5-600d652ce701",
   "metadata": {},
   "outputs": [
    {
     "ename": "SyntaxError",
     "evalue": "cannot assign to literal here. Maybe you meant '==' instead of '='? (3501092783.py, line 1)",
     "output_type": "error",
     "traceback": [
      "\u001b[1;36m  Cell \u001b[1;32mIn[9], line 1\u001b[1;36m\u001b[0m\n\u001b[1;33m    1=20\u001b[0m\n\u001b[1;37m    ^\u001b[0m\n\u001b[1;31mSyntaxError\u001b[0m\u001b[1;31m:\u001b[0m cannot assign to literal here. Maybe you meant '==' instead of '='?\n"
     ]
    }
   ],
   "source": [
    "1=20 # not valid variable\n",
    "print(1)"
   ]
  },
  {
   "cell_type": "markdown",
   "id": "632b7f43-efe0-4531-8a99-da2b041a6e99",
   "metadata": {},
   "source": [
    "```c \n",
    "variable should be start with underscore in the starting are in the middle\n",
    "```"
   ]
  },
  {
   "cell_type": "code",
   "execution_count": 10,
   "id": "92bd5f95-0664-4949-b448-d1d0f864cc0c",
   "metadata": {},
   "outputs": [
    {
     "name": "stdout",
     "output_type": "stream",
     "text": [
      "10\n"
     ]
    }
   ],
   "source": [
    "_n=10\n",
    "print(_n)"
   ]
  },
  {
   "cell_type": "code",
   "execution_count": 11,
   "id": "888116e9-e240-48cf-b066-1468d3db1615",
   "metadata": {},
   "outputs": [
    {
     "name": "stdout",
     "output_type": "stream",
     "text": [
      "15\n"
     ]
    }
   ],
   "source": [
    "sum_num=15\n",
    "print(sum_num)"
   ]
  },
  {
   "cell_type": "markdown",
   "id": "8bb8cf5a-e81e-4016-8c69-137d22762f17",
   "metadata": {},
   "source": [
    "```c \n",
    "input() method is used to take the input from the user and the keyboard\n",
    "by default input() method takes the string later we need to type cast according the type what you need\n",
    "type() which is used to find the which type of datatype we are using\n",
    "```"
   ]
  },
  {
   "cell_type": "code",
   "execution_count": 14,
   "id": "206d1c58-b081-4f8a-82ea-d0e5f200c57b",
   "metadata": {},
   "outputs": [
    {
     "name": "stdin",
     "output_type": "stream",
     "text": [
      "enter the data 4\n"
     ]
    },
    {
     "name": "stdout",
     "output_type": "stream",
     "text": [
      "4\n",
      "<class 'str'>\n"
     ]
    }
   ],
   "source": [
    "s=input(\"enter the data\")\n",
    "print(s)\n",
    "print(type(s))"
   ]
  },
  {
   "cell_type": "code",
   "execution_count": 16,
   "id": "457ce738-bcd6-4c56-8fbe-731a7da77a6a",
   "metadata": {},
   "outputs": [
    {
     "name": "stdin",
     "output_type": "stream",
     "text": [
      "enter the data 5\n"
     ]
    },
    {
     "name": "stdout",
     "output_type": "stream",
     "text": [
      "5\n",
      "<class 'int'>\n"
     ]
    }
   ],
   "source": [
    "s=int(input(\"enter the data\"))# here im converting it into the integer\n",
    "print(s)\n",
    "print(type(s))"
   ]
  },
  {
   "cell_type": "code",
   "execution_count": 17,
   "id": "8a562d4a-7cbd-420a-adb9-72eb62cb0f89",
   "metadata": {},
   "outputs": [
    {
     "name": "stdin",
     "output_type": "stream",
     "text": [
      "enter the data 3.56\n"
     ]
    },
    {
     "name": "stdout",
     "output_type": "stream",
     "text": [
      "3.56\n",
      "<class 'float'>\n"
     ]
    }
   ],
   "source": [
    "s=float(input(\"enter the data\"))#im converting it into float\n",
    "print(s)\n",
    "print(type(s))"
   ]
  },
  {
   "cell_type": "markdown",
   "id": "2fc41912-f649-42cb-9550-00a8a7ec1f9b",
   "metadata": {},
   "source": [
    "```c\n",
    "combining the string with the integer it gives an error for this we have to add the single for the integer\n",
    "like '55'\n",
    "```"
   ]
  },
  {
   "cell_type": "code",
   "execution_count": 19,
   "id": "5c1a4734-6545-4319-9a79-97ba57f884d1",
   "metadata": {},
   "outputs": [
    {
     "name": "stdout",
     "output_type": "stream",
     "text": [
      "im learned50%python\n"
     ]
    }
   ],
   "source": [
    "k=\"im learned\"+ \"50\" + \"%\" + \"python\"\n",
    "print(k)"
   ]
  },
  {
   "cell_type": "code",
   "execution_count": null,
   "id": "154067b1-f460-4cdf-87bd-78db9ecaffce",
   "metadata": {},
   "outputs": [],
   "source": []
  }
 ],
 "metadata": {
  "kernelspec": {
   "display_name": "Python 3 (ipykernel)",
   "language": "python",
   "name": "python3"
  },
  "language_info": {
   "codemirror_mode": {
    "name": "ipython",
    "version": 3
   },
   "file_extension": ".py",
   "mimetype": "text/x-python",
   "name": "python",
   "nbconvert_exporter": "python",
   "pygments_lexer": "ipython3",
   "version": "3.12.5"
  }
 },
 "nbformat": 4,
 "nbformat_minor": 5
}
